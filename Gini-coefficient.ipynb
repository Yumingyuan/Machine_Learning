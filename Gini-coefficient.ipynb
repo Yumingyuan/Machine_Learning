{
 "cells": [
  {
   "cell_type": "markdown",
   "metadata": {},
   "source": [
    "# 基尼系数"
   ]
  },
  {
   "cell_type": "code",
   "execution_count": 1,
   "metadata": {},
   "outputs": [],
   "source": [
    "import numpy as np\n",
    "import matplotlib.pyplot as plt"
   ]
  },
  {
   "cell_type": "code",
   "execution_count": 2,
   "metadata": {},
   "outputs": [],
   "source": [
    "def Gini(x):\n",
    "    return 1-(x**2)-(1-x)**2"
   ]
  },
  {
   "cell_type": "code",
   "execution_count": 7,
   "metadata": {},
   "outputs": [],
   "source": [
    "X=np.linspace(0,1,200)\n",
    "y=Gini(X)"
   ]
  },
  {
   "cell_type": "code",
   "execution_count": 10,
   "metadata": {},
   "outputs": [
    {
     "data": {
      "image/png": "[encoded data removed]",
      "text/plain": [
       "<Figure size 432x288 with 1 Axes>"
      ]
     },
     "metadata": {
      "needs_background": "light"
     },
     "output_type": "display_data"
    }
   ],
   "source": [
    "plt.plot(X,y)\n",
    "plt.show()"
   ]
  },
  {
   "cell_type": "markdown",
   "metadata": {},
   "source": [
    "# 使用基尼系数进行决策树划分"
   ]
  },
  {
   "cell_type": "code",
   "execution_count": 12,
   "metadata": {},
   "outputs": [],
   "source": [
    "from sklearn import datasets\n",
    "\n",
    "iris = datasets.load_iris()\n",
    "X = iris.data[:,2:iris.data.shape[1]]#取后两个特征\n",
    "y = iris.target"
   ]
  },
  {
   "cell_type": "code",
   "execution_count": 14,
   "metadata": {},
   "outputs": [
    {
     "data": {
      "text/plain": [
       "DecisionTreeClassifier(ccp_alpha=0.0, class_weight=None, criterion='gini',\n",
       "                       max_depth=2, max_features=None, max_leaf_nodes=None,\n",
       "                       min_impurity_decrease=0.0, min_impurity_split=None,\n",
       "                       min_samples_leaf=1, min_samples_split=2,\n",
       "                       min_weight_fraction_leaf=0.0, presort='deprecated',\n",
       "                       random_state=None, splitter='best')"
      ]
     },
     "execution_count": 14,
     "metadata": {},
     "output_type": "execute_result"
    }
   ],
   "source": [
    "from sklearn.tree import DecisionTreeClassifier\n",
    "\n",
    "dt_clf = DecisionTreeClassifier(max_depth=2,criterion=\"gini\")#树最大深度为2\n",
    "dt_clf.fit(X,y)"
   ]
  },
  {
   "cell_type": "code",
   "execution_count": 15,
   "metadata": {},
   "outputs": [],
   "source": [
    "def plot_decision_boundry(model,axis):#axis是坐标轴范围\n",
    "    x0,x1 = np.meshgrid(\n",
    "        np.linspace(axis[0],axis[1],int((axis[1]-axis[0])*100)),#x轴划分为很多小的点用最大值减最小值*100这么多样本点\n",
    "        np.linspace(axis[2],axis[3],int((axis[3]-axis[2])*100))#将y轴划分为很多小的点\n",
    "    )\n",
    "    X_new = np.c_[x0.ravel(),x1.ravel()]#按行连接两个矩阵\n",
    "    y_predict=model.predict(X_new)\n",
    "    zz=y_predict.reshape(x0.shape)\n",
    "    \n",
    "    from matplotlib.colors import ListedColormap\n",
    "    custom_cmap=ListedColormap(['#EF9A9a','#fff59d','#90caf9'])\n",
    "    plt.contourf(x0,x1,zz,cmap=custom_cmap)#可选参数linwidth"
   ]
  },
  {
   "cell_type": "code",
   "execution_count": 17,
   "metadata": {},
   "outputs": [
    {
     "data": {
      "image/png": "[encoded data removed]",
      "text/plain": [
       "<Figure size 432x288 with 1 Axes>"
      ]
     },
     "metadata": {
      "needs_background": "light"
     },
     "output_type": "display_data"
    }
   ],
   "source": [
    "plot_decision_boundry(dt_clf,axis=[0.5,7.5,0,3])\n",
    "plt.scatter(X[y==0,0],X[y==0,1])\n",
    "plt.scatter(X[y==1,0],X[y==1,1])\n",
    "plt.scatter(X[y==2,0],X[y==2,1])\n",
    "plt.show()#以基尼系数绘制结果如下"
   ]
  },
  {
   "cell_type": "markdown",
   "metadata": {},
   "source": [
    "# 模拟使用基尼系数划分"
   ]
  },
  {
   "cell_type": "code",
   "execution_count": 25,
   "metadata": {},
   "outputs": [],
   "source": [
    "from collections import Counter\n",
    "from math import log\n",
    "def split(X,y,d,value):#根据value对d特征对应的列进行划分进行划分\n",
    "    index_a = (X[:,d]<=value)\n",
    "    index_b = (X[:,d]>value)\n",
    "    return X[index_a],X[index_b],y[index_a],y[index_b]\n",
    "def gini(y):#y可以标识数据分成了哪些类别\n",
    "    counter = Counter(y)#Counter类已经按照类的不同进行计数并形成字典\n",
    "    #print(counter.values())\n",
    "    res = 1.0\n",
    "    for num in counter.values():\n",
    "        p = num/len(y)#概率计算\n",
    "        res -= p**2#计算基尼系数\n",
    "    return res\n",
    "def try_split(X,y):\n",
    "    best_g=float('inf')\n",
    "    best_d,best_v = -1,-1\n",
    "    for d in range(X.shape[1]):#对于每个维度进行搜索\n",
    "        sorted_index=np.argsort(X[:,d])#进行索引排序 \n",
    "        for i in range(1,X.shape[0]):#对每个样本进行遍历\n",
    "            #索引i-1和i个的第d维\n",
    "            if X[sorted_index[i-1],d] !=X[sorted_index[i],d]:\n",
    "                v=(X[sorted_index[i-1],d]+X[sorted_index[i],d])/2#用平均值作为划分候选阈值\n",
    "                X_l,X_r,y_l,y_r=split(X,y,d,v)\n",
    "                g = gini(y_l)+gini(y_r)#调用计算左右子树基尼系数\n",
    "                if g < best_g:\n",
    "                    best_g,best_d,best_v = g,d,v\n",
    "    return best_g,best_d,best_v"
   ]
  },
  {
   "cell_type": "code",
   "execution_count": 27,
   "metadata": {},
   "outputs": [
    {
     "name": "stdout",
     "output_type": "stream",
     "text": [
      "best g 0.5\n",
      "best dimension 0\n",
      "best threshold 2.45\n"
     ]
    }
   ],
   "source": [
    "best_g,best_d,best_v=try_split(X,y)\n",
    "print(\"best g\",best_g)\n",
    "print(\"best dimension\",best_d)\n",
    "print(\"best threshold\",best_v)#与上面对应的决策边界一致"
   ]
  },
  {
   "cell_type": "code",
   "execution_count": 28,
   "metadata": {},
   "outputs": [],
   "source": [
    "X1_l,X1_r,y1_l,y1_r=split(X,y,best_d,best_v)#真正进行划分"
   ]
  },
  {
   "cell_type": "code",
   "execution_count": 30,
   "metadata": {},
   "outputs": [
    {
     "data": {
      "text/plain": [
       "0.0"
      ]
     },
     "execution_count": 30,
     "metadata": {},
     "output_type": "execute_result"
    }
   ],
   "source": [
    "gini(y1_l)#2.45左侧所有点都是蓝色且都被包含在内"
   ]
  },
  {
   "cell_type": "code",
   "execution_count": 31,
   "metadata": {},
   "outputs": [
    {
     "data": {
      "text/plain": [
       "0.5"
      ]
     },
     "execution_count": 31,
     "metadata": {},
     "output_type": "execute_result"
    }
   ],
   "source": [
    "gini(y1_r)"
   ]
  },
  {
   "cell_type": "code",
   "execution_count": 33,
   "metadata": {},
   "outputs": [
    {
     "name": "stdout",
     "output_type": "stream",
     "text": [
      "best g 0.2105714900645938\n",
      "best dimension 1\n",
      "best threshold 1.75\n"
     ]
    }
   ],
   "source": [
    "best_g2,best_d2,best_v2=try_split(X1_r,y1_r)#对右侧的树进行划分\n",
    "print(\"best g\",best_g2)\n",
    "print(\"best dimension\",best_d2)\n",
    "print(\"best threshold\",best_v2)#与上面对应的决策边界一致，在第一个维度的1.75处进行划分"
   ]
  },
  {
   "cell_type": "code",
   "execution_count": 35,
   "metadata": {},
   "outputs": [],
   "source": [
    "X2_l,X2_r,y2_l,y2_r=split(X1_r,y1_r,best_d2,best_v2)#真正进行划分"
   ]
  },
  {
   "cell_type": "code",
   "execution_count": 36,
   "metadata": {},
   "outputs": [
    {
     "data": {
      "text/plain": [
       "0.04253308128544431"
      ]
     },
     "execution_count": 36,
     "metadata": {},
     "output_type": "execute_result"
    }
   ],
   "source": [
    "gini(y2_r)"
   ]
  },
  {
   "cell_type": "code",
   "execution_count": 37,
   "metadata": {},
   "outputs": [
    {
     "data": {
      "text/plain": [
       "0.1680384087791495"
      ]
     },
     "execution_count": 37,
     "metadata": {},
     "output_type": "execute_result"
    }
   ],
   "source": [
    "gini(y2_l)"
   ]
  }
 ],
 "metadata": {
  "kernelspec": {
   "display_name": "Python 3",
   "language": "python",
   "name": "python3"
  },
  "language_info": {
   "codemirror_mode": {
    "name": "ipython",
    "version": 3
   },
   "file_extension": ".py",
   "mimetype": "text/x-python",
   "name": "python",
   "nbconvert_exporter": "python",
   "pygments_lexer": "ipython3",
   "version": "3.7.6"
  }
 },
 "nbformat": 4,
 "nbformat_minor": 4
}
