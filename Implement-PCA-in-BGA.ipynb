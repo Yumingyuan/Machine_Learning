{
 "cells": [
  {
   "cell_type": "markdown",
   "metadata": {},
   "source": [
    "# 使用梯度上升法求解主成分"
   ]
  },
  {
   "cell_type": "code",
   "execution_count": 1,
   "metadata": {},
   "outputs": [],
   "source": [
    "import numpy as np\n",
    "import matplotlib.pyplot as plt"
   ]
  },
  {
   "cell_type": "code",
   "execution_count": 2,
   "metadata": {},
   "outputs": [],
   "source": [
    "X=np.empty((100,2))#创建一个200*3的矩阵\n",
    "X[:,0] = np.random.uniform(0.,100.,size=100)#第1列数据\n",
    "X[:,1]=0.75*X[:,0]+ 3. + np.random.normal(0,10.,size=100)#第2列数据"
   ]
  },
  {
   "cell_type": "code",
   "execution_count": 3,
   "metadata": {},
   "outputs": [
    {
     "data": {
      "image/png": "[encoded data removed]",
      "text/plain": [
       "<Figure size 432x288 with 1 Axes>"
      ]
     },
     "metadata": {
      "needs_background": "light"
     },
     "output_type": "display_data"
    }
   ],
   "source": [
    "plt.scatter(X[:,0],X[:,1])\n",
    "plt.show()"
   ]
  },
  {
   "cell_type": "markdown",
   "metadata": {},
   "source": [
    "## demean"
   ]
  },
  {
   "cell_type": "code",
   "execution_count": 4,
   "metadata": {},
   "outputs": [],
   "source": [
    "def demean(X):\n",
    "    #X[:,0]=X[:,0]-np.mean(X[:,0])\n",
    "    #X[:,1]=X[:,1]-np.mean(X[:,1])\n",
    "    print(\"np.mean axis=0:\",np.mean(X,axis=0))\n",
    "    return X - np.mean(X,axis=0)#在行从上往下的方向上求均值，相当于求出每列数的均值"
   ]
  },
  {
   "cell_type": "code",
   "execution_count": 5,
   "metadata": {},
   "outputs": [
    {
     "name": "stdout",
     "output_type": "stream",
     "text": [
      "np.mean axis=0: [51.79912694 40.01800584]\n"
     ]
    },
    {
     "data": {
      "image/png": "[encoded data removed]",
      "text/plain": [
       "<Figure size 432x288 with 1 Axes>"
      ]
     },
     "metadata": {
      "needs_background": "light"
     },
     "output_type": "display_data"
    }
   ],
   "source": [
    "X_demean=demean(X)\n",
    "plt.scatter(X_demean[:,0],X_demean[:,1])#经过绘图发现demean操作后的数据分布不变，但坐标轴换了\n",
    "plt.show()"
   ]
  },
  {
   "cell_type": "code",
   "execution_count": 6,
   "metadata": {},
   "outputs": [
    {
     "data": {
      "text/plain": [
       "51.79912694345807"
      ]
     },
     "execution_count": 6,
     "metadata": {},
     "output_type": "execute_result"
    }
   ],
   "source": [
    "np.mean(X[:,0])"
   ]
  },
  {
   "cell_type": "code",
   "execution_count": 7,
   "metadata": {},
   "outputs": [
    {
     "data": {
      "text/plain": [
       "40.018005836482295"
      ]
     },
     "execution_count": 7,
     "metadata": {},
     "output_type": "execute_result"
    }
   ],
   "source": [
    "np.mean(X[:,1])"
   ]
  },
  {
   "cell_type": "markdown",
   "metadata": {},
   "source": [
    "### 经过测试发现经过demean处理后的数据的均值确实->0"
   ]
  },
  {
   "cell_type": "code",
   "execution_count": 8,
   "metadata": {},
   "outputs": [
    {
     "data": {
      "text/plain": [
       "-1.2079226507921703e-14"
      ]
     },
     "execution_count": 8,
     "metadata": {},
     "output_type": "execute_result"
    }
   ],
   "source": [
    "np.mean(X_demean[:,0])"
   ]
  },
  {
   "cell_type": "code",
   "execution_count": 9,
   "metadata": {},
   "outputs": [
    {
     "data": {
      "text/plain": [
       "-3.872457909892546e-15"
      ]
     },
     "execution_count": 9,
     "metadata": {},
     "output_type": "execute_result"
    }
   ],
   "source": [
    "np.mean(X_demean[:,1])"
   ]
  },
  {
   "cell_type": "markdown",
   "metadata": {},
   "source": [
    "## 使用梯度上升法求解主成分"
   ]
  },
  {
   "cell_type": "code",
   "execution_count": 10,
   "metadata": {},
   "outputs": [],
   "source": [
    "def f(w,X):#要求传来的X需要经过demean操作了\n",
    "    return np.sum((X.dot(w))**2)/X.shape[0]#样本数m\n",
    "def df_math(w,X):\n",
    "    return X.T.dot(X.dot(w)) * 2. / X.shape[0]"
   ]
  },
  {
   "cell_type": "code",
   "execution_count": 11,
   "metadata": {},
   "outputs": [],
   "source": [
    "def df_debug(w,X,epsilon=0.0001):#近似梯度求法，且支持损失函数\n",
    "    res = np.empty(len(w))#结果\n",
    "    for i in range(len(w)):#对于每一个维度的导数进行计算\n",
    "        w_1=w.copy()#深拷贝\n",
    "        w_1[i]+=epsilon#对第i维特征增加epsilon\n",
    "        w_2=w.copy()#深拷贝\n",
    "        w_2[i]-=epsilon#对第i维特征较小epsilon\n",
    "        res[i]=(f(w_1,X)-f(w_2,X))/(2*epsilon)#求出第i个维度的导数值\n",
    "    return res"
   ]
  },
  {
   "cell_type": "code",
   "execution_count": 12,
   "metadata": {},
   "outputs": [],
   "source": [
    "def direction(w):#将w转为单位向量\n",
    "    return w/np.linalg.norm(w)#除以w的模因为数学推导时我们希望w为单位向量以便提高我们的计算速度\n",
    "def gradient_ascent(df,X,initital_w,eta,n_iters=1e4,epsilon=1e-8):\n",
    "    w=direction(initital_w)#转换为单位向量\n",
    "    cur_iter=0\n",
    "    \n",
    "    while cur_iter<n_iters:\n",
    "        gradient=df(w,X)\n",
    "        last_w=w\n",
    "        w=w+eta*gradient#梯度上升操作\n",
    "        w=direction(w)#转换为单位向量\n",
    "        if(abs(f(w,X)-f(last_w,X))<epsilon):#如果变动不大，则跳出循环\n",
    "            break\n",
    "        cur_iter+=1\n",
    "    return w"
   ]
  },
  {
   "cell_type": "code",
   "execution_count": 13,
   "metadata": {},
   "outputs": [
    {
     "data": {
      "text/plain": [
       "array([0.62873748, 0.63740151])"
      ]
     },
     "execution_count": 13,
     "metadata": {},
     "output_type": "execute_result"
    }
   ],
   "source": [
    "initial_w=np.random.random(X.shape[1])#不能从0向量开始，因为梯度铁定为0\n",
    "initial_w"
   ]
  },
  {
   "cell_type": "code",
   "execution_count": 14,
   "metadata": {},
   "outputs": [],
   "source": [
    "eta=0.01"
   ]
  },
  {
   "cell_type": "code",
   "execution_count": 15,
   "metadata": {},
   "outputs": [],
   "source": [
    "#注意：不能使用StandardScaler标准化数据，因为我们需要方差最大，如果用标准化，那方差就变为了1，这就不行了"
   ]
  },
  {
   "cell_type": "code",
   "execution_count": 16,
   "metadata": {},
   "outputs": [
    {
     "data": {
      "text/plain": [
       "array([0.80366826, 0.59507758])"
      ]
     },
     "execution_count": 16,
     "metadata": {},
     "output_type": "execute_result"
    }
   ],
   "source": [
    "gradient_ascent(df_debug,X_demean,initial_w,eta)#使用df_debug进行梯度求解"
   ]
  },
  {
   "cell_type": "code",
   "execution_count": 17,
   "metadata": {},
   "outputs": [
    {
     "data": {
      "text/plain": [
       "array([0.80366826, 0.59507758])"
      ]
     },
     "execution_count": 17,
     "metadata": {},
     "output_type": "execute_result"
    }
   ],
   "source": [
    "w=gradient_ascent(df_math,X_demean,initial_w,eta)#w为第一主成分使用正常数学公式进行计算，发现与debug结果一致\n",
    "w"
   ]
  },
  {
   "cell_type": "code",
   "execution_count": 18,
   "metadata": {},
   "outputs": [
    {
     "data": {
      "image/png": "[encoded data removed]",
      "text/plain": [
       "<Figure size 432x288 with 1 Axes>"
      ]
     },
     "metadata": {
      "needs_background": "light"
     },
     "output_type": "display_data"
    },
    {
     "name": "stdout",
     "output_type": "stream",
     "text": [
      "[0, 40.18341302606683] [0, 29.753879034111208]\n",
      "[0, 0.8036682605213367] [0, 0.5950775806822242]\n",
      "1.3505268667658\n"
     ]
    }
   ],
   "source": [
    "plt.scatter(X_demean[:,0],X_demean[:,1])\n",
    "plt.plot([0,w[0]*30],[0,w[1]*30],color='r')#画w这个方向的线\n",
    "plt.show()\n",
    "print([0,w[0]*50],[0,w[1]*50])\n",
    "print([0,w[0]],[0,w[1]])\n",
    "print(w[0]/w[1])"
   ]
  },
  {
   "cell_type": "markdown",
   "metadata": {},
   "source": [
    "## 用一个更加极端的数据进行测试"
   ]
  },
  {
   "cell_type": "code",
   "execution_count": 19,
   "metadata": {},
   "outputs": [],
   "source": [
    "X2=np.empty((100,2))#创建一个200*3的矩阵\n",
    "X2[:,0] = np.random.uniform(0.,100.,size=100)#第1列数据\n",
    "X2[:,1]=0.75*X2[:,0]+ 3."
   ]
  },
  {
   "cell_type": "code",
   "execution_count": 20,
   "metadata": {},
   "outputs": [
    {
     "data": {
      "image/png": "[encoded data removed]",
      "text/plain": [
       "<Figure size 432x288 with 1 Axes>"
      ]
     },
     "metadata": {
      "needs_background": "light"
     },
     "output_type": "display_data"
    }
   ],
   "source": [
    "plt.scatter(X2[:,0],X2[:,1])\n",
    "plt.show()"
   ]
  },
  {
   "cell_type": "code",
   "execution_count": 21,
   "metadata": {},
   "outputs": [
    {
     "name": "stdout",
     "output_type": "stream",
     "text": [
      "np.mean axis=0: [52.81769625 42.61327219]\n"
     ]
    }
   ],
   "source": [
    "X2_demean=demean(X2)\n",
    "initial_w2=np.random.random(X2.shape[1])"
   ]
  },
  {
   "cell_type": "code",
   "execution_count": 22,
   "metadata": {},
   "outputs": [
    {
     "data": {
      "text/plain": [
       "array([0.79999999, 0.60000002])"
      ]
     },
     "execution_count": 22,
     "metadata": {},
     "output_type": "execute_result"
    }
   ],
   "source": [
    "w2=gradient_ascent(df_math,X2_demean,initial_w2,eta)\n",
    "w2#w2就是那个Var最大的轴（0.6/0.8=0.75，计算结果吻合）横轴方向为0.8，纵轴方向为0.6"
   ]
  },
  {
   "cell_type": "code",
   "execution_count": 23,
   "metadata": {},
   "outputs": [
    {
     "data": {
      "image/png": "[encoded data removed]",
      "text/plain": [
       "<Figure size 432x288 with 1 Axes>"
      ]
     },
     "metadata": {
      "needs_background": "light"
     },
     "output_type": "display_data"
    }
   ],
   "source": [
    "plt.scatter(X2_demean[:,0],X2_demean[:,1])\n",
    "plt.plot([0,w2[0]*30],[0,w2[1]*30],color='r')#发现这个轴和样本点重合绘制(0,0)和(w2[0]*30,w2[1]*30)两点并用线连接起来，不会可看下面例子\n",
    "#plt.plot([-5,w2[0]*30],[-5,w2[1]*30],color='o')\n",
    "plt.show()\n",
    "plt.plot?"
   ]
  },
  {
   "cell_type": "code",
   "execution_count": 24,
   "metadata": {},
   "outputs": [
    {
     "data": {
      "image/png": "[encoded data removed]",
      "text/plain": [
       "<Figure size 432x288 with 1 Axes>"
      ]
     },
     "metadata": {
      "needs_background": "light"
     },
     "output_type": "display_data"
    }
   ],
   "source": [
    "plt.plot([1,2], [1,2], 'go-', label='line 1', linewidth=2)\n",
    "plt.show()"
   ]
  }
 ],
 "metadata": {
  "kernelspec": {
   "display_name": "Python 3",
   "language": "python",
   "name": "python3"
  },
  "language_info": {
   "codemirror_mode": {
    "name": "ipython",
    "version": 3
   },
   "file_extension": ".py",
   "mimetype": "text/x-python",
   "name": "python",
   "nbconvert_exporter": "python",
   "pygments_lexer": "ipython3",
   "version": "3.7.6"
  }
 },
 "nbformat": 4,
 "nbformat_minor": 4
}
