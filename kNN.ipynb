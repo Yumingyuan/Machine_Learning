{
 "cells": [
  {
   "cell_type": "markdown",
   "metadata": {},
   "source": [
    "# kNN基础"
   ]
  },
  {
   "cell_type": "code",
   "execution_count": 2,
   "metadata": {},
   "outputs": [],
   "source": [
    "import numpy as np\n",
    "import matplotlib.pyplot as plt"
   ]
  },
  {
   "cell_type": "code",
   "execution_count": 4,
   "metadata": {},
   "outputs": [],
   "source": [
    "raw_data_X=[\n",
    "    [3.393533211,2.331273381],\n",
    "    [3.110073483,1.781539638],\n",
    "    [1.343808831,3.368360954],\n",
    "    [3.582294042,4.679179110],\n",
    "    [2.280362439,2.866990263],\n",
    "    [7.423436942,4.696522875],\n",
    "    [5.745051997,3.533989803],\n",
    "    [9.172168622,2.511101045],\n",
    "    [7.792783481,3.424088941],\n",
    "    [7.939820817,0.791637231]\n",
    "]\n",
    "raw_data_y=[0,0,0,0,0,1,1,1,1,1]"
   ]
  },
  {
   "cell_type": "code",
   "execution_count": 6,
   "metadata": {},
   "outputs": [],
   "source": [
    "#对数据进行训练，并将list变为numpy的array\n",
    "X_train=np.array(raw_data_X)\n",
    "Y_train=np.array(raw_data_y)"
   ]
  },
  {
   "cell_type": "code",
   "execution_count": 8,
   "metadata": {},
   "outputs": [
    {
     "data": {
      "text/plain": [
       "array([[3.39353321, 2.33127338],\n",
       "       [3.11007348, 1.78153964],\n",
       "       [1.34380883, 3.36836095],\n",
       "       [3.58229404, 4.67917911],\n",
       "       [2.28036244, 2.86699026],\n",
       "       [7.42343694, 4.69652288],\n",
       "       [5.745052  , 3.5339898 ],\n",
       "       [9.17216862, 2.51110105],\n",
       "       [7.79278348, 3.42408894],\n",
       "       [7.93982082, 0.79163723]])"
      ]
     },
     "execution_count": 8,
     "metadata": {},
     "output_type": "execute_result"
    }
   ],
   "source": [
    "X_train"
   ]
  },
  {
   "cell_type": "code",
   "execution_count": 9,
   "metadata": {},
   "outputs": [
    {
     "data": {
      "text/plain": [
       "array([0, 0, 0, 0, 0, 1, 1, 1, 1, 1])"
      ]
     },
     "execution_count": 9,
     "metadata": {},
     "output_type": "execute_result"
    }
   ],
   "source": [
    "Y_train"
   ]
  },
  {
   "cell_type": "code",
   "execution_count": 12,
   "metadata": {},
   "outputs": [
    {
     "data": {
      "image/png": "[encoded data removed]",
      "text/plain": [
       "<Figure size 432x288 with 1 Axes>"
      ]
     },
     "metadata": {
      "needs_background": "light"
     },
     "output_type": "display_data"
    }
   ],
   "source": [
    "mark_list=['x','o']\n",
    "for i in range(2):\n",
    "    plt.scatter(X_train[Y_train==i,0],X_train[Y_train==i,1],marker=mark_list[i])"
   ]
  },
  {
   "cell_type": "markdown",
   "metadata": {},
   "source": [
    "## 新来样本数据，根据已经训练的值分析他属于哪一类\n",
    "x = np.array([8.093607318,3.365731514])"
   ]
  },
  {
   "cell_type": "code",
   "execution_count": 13,
   "metadata": {},
   "outputs": [],
   "source": [
    "x = np.array([8.093607318,3.365731514])"
   ]
  },
  {
   "cell_type": "code",
   "execution_count": 18,
   "metadata": {},
   "outputs": [
    {
     "data": {
      "text/plain": [
       "<matplotlib.collections.PathCollection at 0x21acec6b588>"
      ]
     },
     "execution_count": 18,
     "metadata": {},
     "output_type": "execute_result"
    },
    {
     "data": {
      "image/png": "[encoded data removed]",
      "text/plain": [
       "<Figure size 432x288 with 1 Axes>"
      ]
     },
     "metadata": {
      "needs_background": "light"
     },
     "output_type": "display_data"
    }
   ],
   "source": [
    "mark_list=['x','o']\n",
    "for i in range(2):\n",
    "    plt.scatter(X_train[Y_train==i,0],X_train[Y_train==i,1],marker=mark_list[i])\n",
    "plt.scatter(x[0],x[1],marker='.')"
   ]
  },
  {
   "cell_type": "markdown",
   "metadata": {},
   "source": [
    "## kNN的过程\n",
    "### 思路：计算高维欧氏距离"
   ]
  },
  {
   "cell_type": "code",
   "execution_count": 33,
   "metadata": {},
   "outputs": [
    {
     "data": {
      "text/plain": [
       "[array([-4.70007411, -1.03445813]),\n",
       " array([-4.98353384, -1.58419188]),\n",
       " array([-6.74979849e+00,  2.62944000e-03]),\n",
       " array([-4.51131328,  1.3134476 ]),\n",
       " array([-5.81324488, -0.49874125]),\n",
       " array([-0.67017038,  1.33079136]),\n",
       " array([-2.34855532,  0.16825829]),\n",
       " array([ 1.0785613 , -0.85463047]),\n",
       " array([-0.30082384,  0.05835743]),\n",
       " array([-0.1537865 , -2.57409428])]"
      ]
     },
     "execution_count": 33,
     "metadata": {},
     "output_type": "execute_result"
    }
   ],
   "source": [
    "minus_data=[]\n",
    "for x_train in X_train:\n",
    "    minus_data.append(x_train-x)\n",
    "minus_data"
   ]
  },
  {
   "cell_type": "code",
   "execution_count": 38,
   "metadata": {},
   "outputs": [
    {
     "data": {
      "text/plain": [
       "array([[-4.70007411e+00, -1.03445813e+00],\n",
       "       [-4.98353384e+00, -1.58419188e+00],\n",
       "       [-6.74979849e+00,  2.62944000e-03],\n",
       "       [-4.51131328e+00,  1.31344760e+00],\n",
       "       [-5.81324488e+00, -4.98741251e-01],\n",
       "       [-6.70170376e-01,  1.33079136e+00],\n",
       "       [-2.34855532e+00,  1.68258289e-01],\n",
       "       [ 1.07856130e+00, -8.54630469e-01],\n",
       "       [-3.00823837e-01,  5.83574270e-02],\n",
       "       [-1.53786501e-01, -2.57409428e+00]])"
      ]
     },
     "execution_count": 38,
     "metadata": {},
     "output_type": "execute_result"
    }
   ],
   "source": [
    "minus_data=np.array(minus_data)\n",
    "minus_data"
   ]
  },
  {
   "cell_type": "code",
   "execution_count": 41,
   "metadata": {},
   "outputs": [
    {
     "data": {
      "text/plain": [
       "array([[2.20906966e+01, 1.07010363e+00],\n",
       "       [2.48356095e+01, 2.50966390e+00],\n",
       "       [4.55597796e+01, 6.91395471e-06],\n",
       "       [2.03519475e+01, 1.72514459e+00],\n",
       "       [3.37938160e+01, 2.48742835e-01],\n",
       "       [4.49128333e-01, 1.77100565e+00],\n",
       "       [5.51571210e+00, 2.83108518e-02],\n",
       "       [1.16329449e+00, 7.30393239e-01],\n",
       "       [9.04949809e-02, 3.40558929e-03],\n",
       "       [2.36502879e-02, 6.62596138e+00]])"
      ]
     },
     "execution_count": 41,
     "metadata": {},
     "output_type": "execute_result"
    }
   ],
   "source": [
    "minus_data ** 2"
   ]
  },
  {
   "cell_type": "code",
   "execution_count": 47,
   "metadata": {
    "scrolled": true
   },
   "outputs": [
    {
     "name": "stdout",
     "output_type": "stream",
     "text": [
      "4.812566907609877\n",
      "5.229270827235305\n",
      "6.749798999160064\n",
      "4.6986266144110695\n",
      "5.83460014556857\n",
      "1.4900114024329525\n",
      "2.354574897431513\n",
      "1.3761132675144652\n",
      "0.3064319992975\n",
      "2.5786840957478887\n"
     ]
    }
   ],
   "source": [
    "for item in minus_data ** 2:\n",
    "    print(sqrt(np.sum(item)))"
   ]
  },
  {
   "cell_type": "code",
   "execution_count": 20,
   "metadata": {},
   "outputs": [],
   "source": [
    "from math import sqrt\n",
    "distances = []\n",
    "for x_train in X_train:\n",
    "    d= sqrt(np.sum((x_train -x)**2))#对训练集中每一个元素与x之间求欧式距离（差的平方和再开根号）\n",
    "    distances.append(d)"
   ]
  },
  {
   "cell_type": "code",
   "execution_count": 51,
   "metadata": {},
   "outputs": [
    {
     "data": {
      "text/plain": [
       "[4.812566907609877,\n",
       " 5.229270827235305,\n",
       " 6.749798999160064,\n",
       " 4.6986266144110695,\n",
       " 5.83460014556857,\n",
       " 1.4900114024329525,\n",
       " 2.354574897431513,\n",
       " 1.3761132675144652,\n",
       " 0.3064319992975,\n",
       " 2.5786840957478887]"
      ]
     },
     "execution_count": 51,
     "metadata": {},
     "output_type": "execute_result"
    }
   ],
   "source": [
    "distances"
   ]
  },
  {
   "cell_type": "code",
   "execution_count": 52,
   "metadata": {},
   "outputs": [
    {
     "data": {
      "text/plain": [
       "[4.812566907609877,\n",
       " 5.229270827235305,\n",
       " 6.749798999160064,\n",
       " 4.6986266144110695,\n",
       " 5.83460014556857,\n",
       " 1.4900114024329525,\n",
       " 2.354574897431513,\n",
       " 1.3761132675144652,\n",
       " 0.3064319992975,\n",
       " 2.5786840957478887]"
      ]
     },
     "execution_count": 52,
     "metadata": {},
     "output_type": "execute_result"
    }
   ],
   "source": [
    "#用列表生成元素的方法也可以\n",
    "distances=[sqrt(np.sum((x_train-x) ** 2)) for x_train in X_train]\n",
    "distances"
   ]
  },
  {
   "cell_type": "markdown",
   "metadata": {},
   "source": [
    "### argsort对传入的array进行排序，返回的结果按照从小到大的顺序元素在待排数组中的索引"
   ]
  },
  {
   "cell_type": "code",
   "execution_count": 59,
   "metadata": {},
   "outputs": [
    {
     "data": {
      "text/plain": [
       "array([8, 7, 5, 6, 9, 3, 0, 1, 4, 2], dtype=int64)"
      ]
     },
     "execution_count": 59,
     "metadata": {},
     "output_type": "execute_result"
    }
   ],
   "source": [
    "nearest=np.argsort(distances)\n",
    "nearest"
   ]
  },
  {
   "cell_type": "code",
   "execution_count": 61,
   "metadata": {},
   "outputs": [
    {
     "data": {
      "text/plain": [
       "array([0.306432  , 1.37611327, 1.4900114 , 2.3545749 , 2.5786841 ,\n",
       "       4.69862661, 4.81256691, 5.22927083, 5.83460015, 6.749799  ])"
      ]
     },
     "execution_count": 61,
     "metadata": {},
     "output_type": "execute_result"
    }
   ],
   "source": [
    "np.array(distances)[np.argsort(distances)]\n",
    "#将list转为np的array，然后根据argsort的索引结果去取值，发现实质上就排好序了，这说明arg按增序给了我们元素在原数据中的索引位置"
   ]
  },
  {
   "cell_type": "code",
   "execution_count": 67,
   "metadata": {},
   "outputs": [
    {
     "data": {
      "text/plain": [
       "array([8, 7, 5, 6, 9, 3], dtype=int64)"
      ]
     },
     "execution_count": 67,
     "metadata": {},
     "output_type": "execute_result"
    }
   ],
   "source": [
    "k=6\n",
    "np.argsort(distances)[:k]#取前k个最近的元素"
   ]
  },
  {
   "cell_type": "code",
   "execution_count": 68,
   "metadata": {},
   "outputs": [
    {
     "data": {
      "text/plain": [
       "array([1, 1, 1, 1, 1, 0])"
      ]
     },
     "execution_count": 68,
     "metadata": {},
     "output_type": "execute_result"
    }
   ],
   "source": [
    "topK_y=np.array(Y_train)[np.argsort(distances)[:k]]#Y_train记录了数据的类型\n",
    "topK_y"
   ]
  },
  {
   "cell_type": "markdown",
   "metadata": {},
   "source": [
    "### 使用python collection的counter类对结果的频次进行统计"
   ]
  },
  {
   "cell_type": "code",
   "execution_count": 72,
   "metadata": {},
   "outputs": [
    {
     "data": {
      "text/plain": [
       "Counter({1: 5, 0: 1})"
      ]
     },
     "execution_count": 72,
     "metadata": {},
     "output_type": "execute_result"
    }
   ],
   "source": [
    "from collections import Counter\n",
    "votes=Counter(topK_y)#结果为一个字典，key为1和0，值为频次分别为5和0\n",
    "votes"
   ]
  },
  {
   "cell_type": "markdown",
   "metadata": {},
   "source": [
    "#### 使用counter中的most_common函数得到频次前n名的键和频次，此例子n为1"
   ]
  },
  {
   "cell_type": "code",
   "execution_count": 74,
   "metadata": {},
   "outputs": [
    {
     "data": {
      "text/plain": [
       "[(1, 5)]"
      ]
     },
     "execution_count": 74,
     "metadata": {},
     "output_type": "execute_result"
    }
   ],
   "source": [
    "votes.most_common(1)"
   ]
  },
  {
   "cell_type": "code",
   "execution_count": 76,
   "metadata": {},
   "outputs": [
    {
     "data": {
      "text/plain": [
       "(1, 5)"
      ]
     },
     "execution_count": 76,
     "metadata": {},
     "output_type": "execute_result"
    }
   ],
   "source": [
    "votes.most_common(1)[0]"
   ]
  },
  {
   "cell_type": "markdown",
   "metadata": {},
   "source": [
    "## 最终得到的分类结果如下\n",
    "预测结果为1"
   ]
  },
  {
   "cell_type": "code",
   "execution_count": 79,
   "metadata": {},
   "outputs": [
    {
     "name": "stdout",
     "output_type": "stream",
     "text": [
      "kNN result: 1\n"
     ]
    }
   ],
   "source": [
    "print(\"kNN result:\",votes.most_common(1)[0][0])"
   ]
  },
  {
   "cell_type": "code",
   "execution_count": 81,
   "metadata": {},
   "outputs": [
    {
     "data": {
      "text/plain": [
       "1"
      ]
     },
     "execution_count": 81,
     "metadata": {},
     "output_type": "execute_result"
    }
   ],
   "source": [
    "y_predict=votes.most_common(1)[0][0]\n",
    "y_predict"
   ]
  }
 ],
 "metadata": {
  "kernelspec": {
   "display_name": "Python 3",
   "language": "python",
   "name": "python3"
  },
  "language_info": {
   "codemirror_mode": {
    "name": "ipython",
    "version": 3
   },
   "file_extension": ".py",
   "mimetype": "text/x-python",
   "name": "python",
   "nbconvert_exporter": "python",
   "pygments_lexer": "ipython3",
   "version": "3.7.6"
  }
 },
 "nbformat": 4,
 "nbformat_minor": 4
}
