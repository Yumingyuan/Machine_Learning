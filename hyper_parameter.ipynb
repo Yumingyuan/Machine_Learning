{
 "cells": [
  {
   "cell_type": "markdown",
   "metadata": {},
   "source": [
    "# 超参数\n",
    "## 我们可能会有疑问，什么是超参数？\n",
    "### 超参数是：在算法运行前需要决定或选取的参数\n",
    "在本例子中的超参数就是我们的n_neighbors，该参数选取的不同会影响算法的精度；所以我们要找到合适的方法帮助我们选取最优的n_neighbors\n",
    "### 模型参数是：算法过程中学习的参数\n",
    "kNN算法没有模型参数，但k是典型的超参数"
   ]
  },
  {
   "cell_type": "code",
   "execution_count": 33,
   "metadata": {},
   "outputs": [],
   "source": [
    "import numpy as np\n",
    "from sklearn import datasets"
   ]
  },
  {
   "cell_type": "code",
   "execution_count": 34,
   "metadata": {},
   "outputs": [],
   "source": [
    "digits=datasets.load_digits()\n",
    "X=digits.data\n",
    "y=digits.target"
   ]
  },
  {
   "cell_type": "code",
   "execution_count": 35,
   "metadata": {},
   "outputs": [],
   "source": [
    "# %load KNN/model_selection.py\n",
    "import numpy as np\n",
    "\n",
    "def train_test_split(X,y,ratio=0.2,random_seed=None):\n",
    "    assert X.shape[0]== y.shape[0], \"the size of X must be equal to the size of y\"\n",
    "    assert 0.0<=ratio<=1.0,\"the test size must be valid\"\n",
    "    if random_seed:\n",
    "        np.random.seed(random_seed)\n",
    "    shuffled_indexes=np.random.permutation(len(X))\n",
    "    test_size=int(len(X)*ratio)\n",
    "    test_indexes=shuffled_indexes[:test_size]\n",
    "    train_indexes=shuffled_indexes[test_size:]\n",
    "    X_train=X[train_indexes]\n",
    "    y_train=y[train_indexes]\n",
    "\n",
    "    X_test=X[test_indexes]\n",
    "    y_test=y[test_indexes]\n",
    "\n",
    "    return X_train,y_train,X_test,y_test"
   ]
  },
  {
   "cell_type": "markdown",
   "metadata": {},
   "source": [
    "### 使用我们之前写的model_selection.py中的train_test_split进行数据集划分"
   ]
  },
  {
   "cell_type": "code",
   "execution_count": 41,
   "metadata": {},
   "outputs": [],
   "source": [
    "from KNN.model_selection import train_test_split\n",
    "X_train,y_train,X_test,y_test = train_test_split(X,y,ratio=0.2,random_seed=666)#随机种子一致保证实验结果一致"
   ]
  },
  {
   "cell_type": "code",
   "execution_count": 44,
   "metadata": {},
   "outputs": [
    {
     "data": {
      "text/plain": [
       "0.9888579387186629"
      ]
     },
     "execution_count": 44,
     "metadata": {},
     "output_type": "execute_result"
    }
   ],
   "source": [
    "from sklearn.neighbors import KNeighborsClassifier\n",
    "knn_clf=KNeighborsClassifier(n_neighbors=5)\n",
    "knn_clf.fit(X_train,y_train)\n",
    "knn_clf.score(X_test,y_test)"
   ]
  },
  {
   "cell_type": "markdown",
   "metadata": {},
   "source": [
    "# 寻找最好的k \n",
    "调参，调超参数k，网格穷举搜索"
   ]
  },
  {
   "cell_type": "code",
   "execution_count": 47,
   "metadata": {
    "scrolled": true
   },
   "outputs": [
    {
     "name": "stdout",
     "output_type": "stream",
     "text": [
      "best k: 3\n",
      "best score: 0.9916434540389972\n"
     ]
    }
   ],
   "source": [
    "best_score=0.0\n",
    "best_k=-1\n",
    "for k in range(1,15):\n",
    "    knn_clf=KNeighborsClassifier(n_neighbors=k)#循环构造\n",
    "    knn_clf.fit(X_train,y_train)\n",
    "    score=knn_clf.score(X_test,y_test)\n",
    "    if score > best_score:\n",
    "        best_score=score\n",
    "        best_k=k\n",
    "print(\"best k:\",best_k)\n",
    "print(\"best score:\",best_score)"
   ]
  },
  {
   "cell_type": "markdown",
   "metadata": {},
   "source": [
    "## 考虑距离还是不考虑距离呢？\n",
    "解决knn平票的情况：有三个点对应三个分类，各有1票，如何给出预测保证准确"
   ]
  },
  {
   "cell_type": "code",
   "execution_count": 53,
   "metadata": {},
   "outputs": [
    {
     "name": "stdout",
     "output_type": "stream",
     "text": [
      "best k: 3\n",
      "best score: 0.9916434540389972\n",
      "best method: uniform\n"
     ]
    }
   ],
   "source": [
    "best_method = \"\"\n",
    "best_score=0.0\n",
    "best_k=-1\n",
    "for method in [\"uniform\",\"distance\"]:\n",
    "    for k in range(1,11):\n",
    "        knn_clf=KNeighborsClassifier(n_neighbors=k,weights=method)\n",
    "        knn_clf.fit(X_train,y_train)\n",
    "        score=knn_clf.score(X_test,y_test)\n",
    "        if score > best_score:\n",
    "            best_score=score\n",
    "            best_k=k\n",
    "            best_method=method\n",
    "print(\"best k:\",best_k)\n",
    "print(\"best score:\",best_score)\n",
    "print(\"best method:\",best_method)"
   ]
  },
  {
   "cell_type": "markdown",
   "metadata": {},
   "source": [
    "# 搜索明可夫斯基距离相应的p\n",
    "p也是一个超参数，决定了是欧式距离还是曼哈顿距离还是p距离，开根号p次方"
   ]
  },
  {
   "cell_type": "code",
   "execution_count": 58,
   "metadata": {},
   "outputs": [
    {
     "name": "stdout",
     "output_type": "stream",
     "text": [
      "best k: 3\n",
      "best score: 0.9916434540389972\n",
      "best p: 2\n",
      "Wall time: 34.3 s\n"
     ]
    }
   ],
   "source": [
    "%%time\n",
    "best_p=-1\n",
    "best_score=0.0\n",
    "best_k=-1\n",
    "for k in range(1,11):\n",
    "    for p in range(1,6):\n",
    "        knn_clf=KNeighborsClassifier(n_neighbors=k,weights=\"distance\",p=p)#p参数给出了我们使用曼哈顿距离，欧式距离，还是3距离，甚至4距离和5距离\n",
    "        knn_clf.fit(X_train,y_train)\n",
    "        score=knn_clf.score(X_test,y_test)\n",
    "        if score > best_score:\n",
    "            best_score=score\n",
    "            best_k=k\n",
    "            best_p=p\n",
    "print(\"best k:\",best_k)\n",
    "print(\"best score:\",best_score)\n",
    "print(\"best p:\",best_p)"
   ]
  }
 ],
 "metadata": {
  "kernelspec": {
   "display_name": "Python 3",
   "language": "python",
   "name": "python3"
  },
  "language_info": {
   "codemirror_mode": {
    "name": "ipython",
    "version": 3
   },
   "file_extension": ".py",
   "mimetype": "text/x-python",
   "name": "python",
   "nbconvert_exporter": "python",
   "pygments_lexer": "ipython3",
   "version": "3.7.6"
  }
 },
 "nbformat": 4,
 "nbformat_minor": 4
}
